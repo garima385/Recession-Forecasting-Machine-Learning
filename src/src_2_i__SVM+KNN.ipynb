{
 "cells": [
  {
   "cell_type": "markdown",
   "metadata": {},
   "source": [
    "# I. Library Specification"
   ]
  },
  {
   "cell_type": "code",
   "execution_count": 1,
   "metadata": {},
   "outputs": [],
   "source": [
    "import pandas as pd\n",
    "import numpy as np\n",
    "import matplotlib.pyplot as plt \n",
    "from sklearn import metrics\n",
    "\n",
    "from sklearn.metrics import classification_report\n",
    "from sklearn.metrics import confusion_matrix\n",
    "from sklearn.metrics import f1_score\n",
    "from sklearn.metrics import roc_auc_score, roc_curve, auc\n",
    "from sklearn import model_selection\n",
    "from sklearn import preprocessing\n",
    "\n",
    "from sklearn.feature_selection import SelectFromModel\n",
    "from sklearn import neural_network\n",
    "from sklearn.metrics import log_loss\n",
    "\n",
    "from sklearn.neighbors import KNeighborsClassifier\n",
    "from sklearn.svm import SVC\n",
    "from sklearn.svm import SVR\n",
    "import sklearn.preprocessing as pp\n",
    "\n",
    "\n",
    "from matplotlib import pyplot as mp\n",
    "import seaborn as sns\n",
    "import os\n",
    "\n",
    "import matplotlib as mpl\n",
    "import matplotlib.pyplot as plt"
   ]
  },
  {
   "cell_type": "code",
   "execution_count": 2,
   "metadata": {},
   "outputs": [
    {
     "data": {
      "text/html": [
       "<div>\n",
       "<style scoped>\n",
       "    .dataframe tbody tr th:only-of-type {\n",
       "        vertical-align: middle;\n",
       "    }\n",
       "\n",
       "    .dataframe tbody tr th {\n",
       "        vertical-align: top;\n",
       "    }\n",
       "\n",
       "    .dataframe thead th {\n",
       "        text-align: right;\n",
       "    }\n",
       "</style>\n",
       "<table border=\"1\" class=\"dataframe\">\n",
       "  <thead>\n",
       "    <tr style=\"text-align: right;\">\n",
       "      <th></th>\n",
       "      <th>Date</th>\n",
       "      <th>Recession1</th>\n",
       "      <th>Recession6</th>\n",
       "      <th>Recession12</th>\n",
       "      <th>3MoTBill</th>\n",
       "      <th>6MoTBill</th>\n",
       "      <th>1YoTBill</th>\n",
       "      <th>5YoTBill</th>\n",
       "      <th>10YoTBill</th>\n",
       "      <th>Unrate</th>\n",
       "      <th>...</th>\n",
       "      <th>T5YFFM_12MoLag</th>\n",
       "      <th>T10YFFM_3MoLag</th>\n",
       "      <th>T10YFFM_6MoLag</th>\n",
       "      <th>T10YFFM_12MoLag</th>\n",
       "      <th>CPIAUCSL_3MoLag</th>\n",
       "      <th>CPIAUCSL_6MoLag</th>\n",
       "      <th>CPIAUCSL_12MoLag</th>\n",
       "      <th>SandP500_3MoLag</th>\n",
       "      <th>SandP500_6MoLag</th>\n",
       "      <th>SandP500_12MoLag</th>\n",
       "    </tr>\n",
       "  </thead>\n",
       "  <tbody>\n",
       "    <tr>\n",
       "      <th>0</th>\n",
       "      <td>01-01-1960</td>\n",
       "      <td>0.0</td>\n",
       "      <td>0.0</td>\n",
       "      <td>1.0</td>\n",
       "      <td>-0.042896</td>\n",
       "      <td>0.036940</td>\n",
       "      <td>0.011433</td>\n",
       "      <td>-0.240328</td>\n",
       "      <td>-0.437317</td>\n",
       "      <td>-0.467681</td>\n",
       "      <td>...</td>\n",
       "      <td>0.590077</td>\n",
       "      <td>-0.310243</td>\n",
       "      <td>-0.075010</td>\n",
       "      <td>0.297894</td>\n",
       "      <td>-1.309224</td>\n",
       "      <td>-1.310099</td>\n",
       "      <td>-1.308867</td>\n",
       "      <td>-0.842144</td>\n",
       "      <td>-0.839951</td>\n",
       "      <td>-0.852184</td>\n",
       "    </tr>\n",
       "    <tr>\n",
       "      <th>1</th>\n",
       "      <td>02-01-1960</td>\n",
       "      <td>0.0</td>\n",
       "      <td>1.0</td>\n",
       "      <td>1.0</td>\n",
       "      <td>-0.167144</td>\n",
       "      <td>-0.103765</td>\n",
       "      <td>-0.099354</td>\n",
       "      <td>-0.314968</td>\n",
       "      <td>-0.517117</td>\n",
       "      <td>-0.708455</td>\n",
       "      <td>...</td>\n",
       "      <td>0.590077</td>\n",
       "      <td>-0.322673</td>\n",
       "      <td>-0.075010</td>\n",
       "      <td>0.291707</td>\n",
       "      <td>-1.309224</td>\n",
       "      <td>-1.309698</td>\n",
       "      <td>-1.309002</td>\n",
       "      <td>-0.841157</td>\n",
       "      <td>-0.841153</td>\n",
       "      <td>-0.852239</td>\n",
       "    </tr>\n",
       "    <tr>\n",
       "      <th>2</th>\n",
       "      <td>03-01-1960</td>\n",
       "      <td>0.0</td>\n",
       "      <td>1.0</td>\n",
       "      <td>1.0</td>\n",
       "      <td>-0.374222</td>\n",
       "      <td>-0.324416</td>\n",
       "      <td>-0.290985</td>\n",
       "      <td>-0.438287</td>\n",
       "      <td>-0.600386</td>\n",
       "      <td>-0.347295</td>\n",
       "      <td>...</td>\n",
       "      <td>0.336898</td>\n",
       "      <td>-0.217021</td>\n",
       "      <td>-0.081213</td>\n",
       "      <td>0.081379</td>\n",
       "      <td>-1.308425</td>\n",
       "      <td>-1.308762</td>\n",
       "      <td>-1.309406</td>\n",
       "      <td>-0.839066</td>\n",
       "      <td>-0.844745</td>\n",
       "      <td>-0.852198</td>\n",
       "    </tr>\n",
       "    <tr>\n",
       "      <th>3</th>\n",
       "      <td>04-01-1960</td>\n",
       "      <td>1.0</td>\n",
       "      <td>1.0</td>\n",
       "      <td>1.0</td>\n",
       "      <td>-0.399709</td>\n",
       "      <td>-0.343603</td>\n",
       "      <td>-0.284997</td>\n",
       "      <td>-0.444778</td>\n",
       "      <td>-0.589977</td>\n",
       "      <td>-0.467681</td>\n",
       "      <td>...</td>\n",
       "      <td>0.314559</td>\n",
       "      <td>-0.198377</td>\n",
       "      <td>-0.310726</td>\n",
       "      <td>0.062820</td>\n",
       "      <td>-1.308958</td>\n",
       "      <td>-1.307426</td>\n",
       "      <td>-1.309272</td>\n",
       "      <td>-0.844624</td>\n",
       "      <td>-0.843900</td>\n",
       "      <td>-0.849251</td>\n",
       "    </tr>\n",
       "    <tr>\n",
       "      <th>4</th>\n",
       "      <td>05-01-1960</td>\n",
       "      <td>1.0</td>\n",
       "      <td>1.0</td>\n",
       "      <td>1.0</td>\n",
       "      <td>-0.380594</td>\n",
       "      <td>-0.334009</td>\n",
       "      <td>-0.234095</td>\n",
       "      <td>-0.379873</td>\n",
       "      <td>-0.565690</td>\n",
       "      <td>-0.527875</td>\n",
       "      <td>...</td>\n",
       "      <td>0.530506</td>\n",
       "      <td>-0.328888</td>\n",
       "      <td>-0.323132</td>\n",
       "      <td>0.217474</td>\n",
       "      <td>-1.308425</td>\n",
       "      <td>-1.307426</td>\n",
       "      <td>-1.308463</td>\n",
       "      <td>-0.843962</td>\n",
       "      <td>-0.842896</td>\n",
       "      <td>-0.847758</td>\n",
       "    </tr>\n",
       "  </tbody>\n",
       "</table>\n",
       "<p>5 rows × 69 columns</p>\n",
       "</div>"
      ],
      "text/plain": [
       "         Date  Recession1  Recession6  Recession12  3MoTBill  6MoTBill  \\\n",
       "0  01-01-1960         0.0         0.0          1.0 -0.042896  0.036940   \n",
       "1  02-01-1960         0.0         1.0          1.0 -0.167144 -0.103765   \n",
       "2  03-01-1960         0.0         1.0          1.0 -0.374222 -0.324416   \n",
       "3  04-01-1960         1.0         1.0          1.0 -0.399709 -0.343603   \n",
       "4  05-01-1960         1.0         1.0          1.0 -0.380594 -0.334009   \n",
       "\n",
       "   1YoTBill  5YoTBill  10YoTBill    Unrate  ...  T5YFFM_12MoLag  \\\n",
       "0  0.011433 -0.240328  -0.437317 -0.467681  ...        0.590077   \n",
       "1 -0.099354 -0.314968  -0.517117 -0.708455  ...        0.590077   \n",
       "2 -0.290985 -0.438287  -0.600386 -0.347295  ...        0.336898   \n",
       "3 -0.284997 -0.444778  -0.589977 -0.467681  ...        0.314559   \n",
       "4 -0.234095 -0.379873  -0.565690 -0.527875  ...        0.530506   \n",
       "\n",
       "   T10YFFM_3MoLag  T10YFFM_6MoLag  T10YFFM_12MoLag  CPIAUCSL_3MoLag  \\\n",
       "0       -0.310243       -0.075010         0.297894        -1.309224   \n",
       "1       -0.322673       -0.075010         0.291707        -1.309224   \n",
       "2       -0.217021       -0.081213         0.081379        -1.308425   \n",
       "3       -0.198377       -0.310726         0.062820        -1.308958   \n",
       "4       -0.328888       -0.323132         0.217474        -1.308425   \n",
       "\n",
       "   CPIAUCSL_6MoLag  CPIAUCSL_12MoLag  SandP500_3MoLag  SandP500_6MoLag  \\\n",
       "0        -1.310099         -1.308867        -0.842144        -0.839951   \n",
       "1        -1.309698         -1.309002        -0.841157        -0.841153   \n",
       "2        -1.308762         -1.309406        -0.839066        -0.844745   \n",
       "3        -1.307426         -1.309272        -0.844624        -0.843900   \n",
       "4        -1.307426         -1.308463        -0.843962        -0.842896   \n",
       "\n",
       "   SandP500_12MoLag  \n",
       "0         -0.852184  \n",
       "1         -0.852239  \n",
       "2         -0.852198  \n",
       "3         -0.849251  \n",
       "4         -0.847758  \n",
       "\n",
       "[5 rows x 69 columns]"
      ]
     },
     "execution_count": 2,
     "metadata": {},
     "output_type": "execute_result"
    }
   ],
   "source": [
    "df=pd.read_csv('C:/Users/yangc/OneDrive/Desktop/FinalThesisFolder/Final5.csv')\n",
    "df.head()"
   ]
  },
  {
   "cell_type": "code",
   "execution_count": 3,
   "metadata": {},
   "outputs": [
    {
     "data": {
      "text/plain": [
       "(729, 69)"
      ]
     },
     "execution_count": 3,
     "metadata": {},
     "output_type": "execute_result"
    }
   ],
   "source": [
    "df.shape"
   ]
  },
  {
   "cell_type": "markdown",
   "metadata": {},
   "source": [
    "# II. Model Implementation "
   ]
  },
  {
   "cell_type": "markdown",
   "metadata": {},
   "source": [
    "### (A) Recession Prediction 1 month ahead"
   ]
  },
  {
   "cell_type": "code",
   "execution_count": 4,
   "metadata": {},
   "outputs": [],
   "source": [
    "df=df.drop([725,726,727,728],axis=0)"
   ]
  },
  {
   "cell_type": "code",
   "execution_count": 5,
   "metadata": {},
   "outputs": [],
   "source": [
    "#One month ahead data store\n",
    "df1=df"
   ]
  },
  {
   "cell_type": "code",
   "execution_count": 6,
   "metadata": {},
   "outputs": [
    {
     "data": {
      "text/plain": [
       "579"
      ]
     },
     "execution_count": 6,
     "metadata": {},
     "output_type": "execute_result"
    }
   ],
   "source": [
    "df_idx = df1[df1.Date == '04-01-2008'].index[0]\n",
    "df_idx"
   ]
  },
  {
   "cell_type": "code",
   "execution_count": 7,
   "metadata": {},
   "outputs": [
    {
     "data": {
      "text/plain": [
       "(146, 65)"
      ]
     },
     "execution_count": 7,
     "metadata": {},
     "output_type": "execute_result"
    }
   ],
   "source": [
    "\n",
    "X=df1[['3MoTBill','6MoTBill',\t'1YoTBill',\t'5YoTBill',\t'10YoTBill',\t\n",
    "       'Unrate','consumptionex',\t'indpro',\t'fedfunrate',\t\n",
    "       'TB3SMFFM','TB6SMFFM',\t'T1YFFM',\t'T5YFFM',\t'T10YFFM',\t\n",
    "       'CPIAUCSL',\t'SandP500',\t'Recession',\t'3MoTBill_3MoLag',\t\n",
    "       '3MoTBill_6MoLag',\t'3MoTBill_12MoLag',\t'6MoTBill_3MoLag',\t\n",
    "       '6MoTBill_6MoLag',\t'6MoTBill_12MoLag',\t'1YoTBill_3MoLag',\t\n",
    "       '1YoTBill_6MoLag',\t'1YoTBill_12MoLag',\t'5YoTBill_3MoLag',\t'5YoTBill_6MoLag',\n",
    "       '5YoTBill_12MoLag',\t'10YoTBill_3MoLag',\t'10YoTBill_6MoLag',\t'10YoTBill_12MoLag',\n",
    "       'Unrate_3MoLag',\t'Unrate_6MoLag',\t'Unrate_12MoLag',\t'consumptionex_3MoLag',\t\n",
    "       'consumptionex_6MoLag',\t'consumptionex_12MoLag',\t'indpro_3MoLag',\n",
    "       'indpro_6MoLag',\t'indpro_12MoLag',\t'fedfunrate_3MoLag',\t'fedfunrate_6MoLag',\n",
    "       'fedfunrate_12MoLag',\t'TB3SMFFM_3MoLag',\t'TB3SMFFM_6MoLag',\t'TB3SMFFM_12MoLag',\n",
    "       'TB6SMFFM_3MoLag',\t'TB6SMFFM_6MoLag',\t'TB6SMFFM_12MoLag',\t'T1YFFM_3MoLag',\n",
    "       'T1YFFM_6MoLag',\t'T1YFFM_12MoLag',\t'T5YFFM_3MoLag',\t'T5YFFM_6MoLag',\n",
    "       'T5YFFM_12MoLag',\t'T10YFFM_3MoLag',\t'T10YFFM_6MoLag',\t'T10YFFM_12MoLag',\t'CPIAUCSL_3MoLag',\n",
    "       'CPIAUCSL_6MoLag',\t'CPIAUCSL_12MoLag',\t'SandP500_3MoLag',\t'SandP500_6MoLag',\t'SandP500_12MoLag']].values\n",
    "Y=df1['Recession1'].values\n",
    "\n",
    "X_train = X[:579]\n",
    "Y_train = Y[:579]\n",
    "\n",
    "X_val = X[579:]\n",
    "Y_val =Y[579:]\n",
    "\n",
    "X_val.shape\n",
    "\n"
   ]
  },
  {
   "cell_type": "markdown",
   "metadata": {},
   "source": [
    "#### SVM (Support Vector Machine)"
   ]
  },
  {
   "cell_type": "markdown",
   "metadata": {},
   "source": [
    "K-fold cross validation for in sample testing\n"
   ]
  },
  {
   "cell_type": "code",
   "execution_count": 8,
   "metadata": {},
   "outputs": [
    {
     "name": "stderr",
     "output_type": "stream",
     "text": [
      "C:\\Users\\garim\\Anaconda3\\lib\\site-packages\\sklearn\\utils\\validation.py:73: DataConversionWarning: A column-vector y was passed when a 1d array was expected. Please change the shape of y to (n_samples, ), for example using ravel().\n",
      "  return f(**kwargs)\n",
      "C:\\Users\\garim\\Anaconda3\\lib\\site-packages\\sklearn\\utils\\validation.py:73: DataConversionWarning: A column-vector y was passed when a 1d array was expected. Please change the shape of y to (n_samples, ), for example using ravel().\n",
      "  return f(**kwargs)\n",
      "C:\\Users\\garim\\Anaconda3\\lib\\site-packages\\sklearn\\utils\\validation.py:73: DataConversionWarning: A column-vector y was passed when a 1d array was expected. Please change the shape of y to (n_samples, ), for example using ravel().\n",
      "  return f(**kwargs)\n",
      "C:\\Users\\garim\\Anaconda3\\lib\\site-packages\\sklearn\\utils\\validation.py:73: DataConversionWarning: A column-vector y was passed when a 1d array was expected. Please change the shape of y to (n_samples, ), for example using ravel().\n",
      "  return f(**kwargs)\n",
      "C:\\Users\\garim\\Anaconda3\\lib\\site-packages\\sklearn\\utils\\validation.py:73: DataConversionWarning: A column-vector y was passed when a 1d array was expected. Please change the shape of y to (n_samples, ), for example using ravel().\n",
      "  return f(**kwargs)\n"
     ]
    },
    {
     "name": "stdout",
     "output_type": "stream",
     "text": [
      "ROC Score: 0.9372427150371249\n",
      "F1 Score: 0.899000792003977\n"
     ]
    },
    {
     "name": "stderr",
     "output_type": "stream",
     "text": [
      "C:\\Users\\garim\\Anaconda3\\lib\\site-packages\\sklearn\\utils\\validation.py:73: DataConversionWarning: A column-vector y was passed when a 1d array was expected. Please change the shape of y to (n_samples, ), for example using ravel().\n",
      "  return f(**kwargs)\n",
      "C:\\Users\\garim\\Anaconda3\\lib\\site-packages\\sklearn\\utils\\validation.py:73: DataConversionWarning: A column-vector y was passed when a 1d array was expected. Please change the shape of y to (n_samples, ), for example using ravel().\n",
      "  return f(**kwargs)\n"
     ]
    }
   ],
   "source": [
    "K_Fold = model_selection.TimeSeriesSplit(n_splits=3)\n",
    "model= SVC(probability=True)\n",
    "Y_train= pp.LabelBinarizer().fit_transform(Y_train)     #Binarize labels in a one-vs-all fashion\n",
    "model.fit(X_train, Y_train) # train the model\n",
    "roc_score_cv = model_selection.cross_val_score(model, X_train, Y_train, cv=K_Fold, scoring = 'roc_auc')\n",
    "F1_score= model_selection.cross_val_score(model, X_train, Y_train, cv=K_Fold, scoring = 'f1_weighted')\n",
    "SVC1_ROC=roc_score_cv.mean()\n",
    "SVC1_F1=F1_score.mean()\n",
    "print(\"ROC Score:\",SVC1_ROC)\n",
    "print(\"F1 Score:\", SVC1_F1)\n",
    "\n"
   ]
  },
  {
   "cell_type": "markdown",
   "metadata": {},
   "source": [
    "#### KNN"
   ]
  },
  {
   "cell_type": "code",
   "execution_count": 9,
   "metadata": {},
   "outputs": [
    {
     "name": "stdout",
     "output_type": "stream",
     "text": [
      "ROC Score: 0.8106587222773917\n",
      "F1 Score: 0.9090095116906712\n"
     ]
    },
    {
     "name": "stderr",
     "output_type": "stream",
     "text": [
      "C:\\Users\\garim\\Anaconda3\\lib\\site-packages\\ipykernel_launcher.py:4: DataConversionWarning: A column-vector y was passed when a 1d array was expected. Please change the shape of y to (n_samples, ), for example using ravel().\n",
      "  after removing the cwd from sys.path.\n",
      "C:\\Users\\garim\\Anaconda3\\lib\\site-packages\\sklearn\\model_selection\\_validation.py:531: DataConversionWarning: A column-vector y was passed when a 1d array was expected. Please change the shape of y to (n_samples, ), for example using ravel().\n",
      "  estimator.fit(X_train, y_train, **fit_params)\n",
      "C:\\Users\\garim\\Anaconda3\\lib\\site-packages\\sklearn\\model_selection\\_validation.py:531: DataConversionWarning: A column-vector y was passed when a 1d array was expected. Please change the shape of y to (n_samples, ), for example using ravel().\n",
      "  estimator.fit(X_train, y_train, **fit_params)\n",
      "C:\\Users\\garim\\Anaconda3\\lib\\site-packages\\sklearn\\model_selection\\_validation.py:531: DataConversionWarning: A column-vector y was passed when a 1d array was expected. Please change the shape of y to (n_samples, ), for example using ravel().\n",
      "  estimator.fit(X_train, y_train, **fit_params)\n",
      "C:\\Users\\garim\\Anaconda3\\lib\\site-packages\\sklearn\\model_selection\\_validation.py:531: DataConversionWarning: A column-vector y was passed when a 1d array was expected. Please change the shape of y to (n_samples, ), for example using ravel().\n",
      "  estimator.fit(X_train, y_train, **fit_params)\n",
      "C:\\Users\\garim\\Anaconda3\\lib\\site-packages\\sklearn\\model_selection\\_validation.py:531: DataConversionWarning: A column-vector y was passed when a 1d array was expected. Please change the shape of y to (n_samples, ), for example using ravel().\n",
      "  estimator.fit(X_train, y_train, **fit_params)\n",
      "C:\\Users\\garim\\Anaconda3\\lib\\site-packages\\sklearn\\model_selection\\_validation.py:531: DataConversionWarning: A column-vector y was passed when a 1d array was expected. Please change the shape of y to (n_samples, ), for example using ravel().\n",
      "  estimator.fit(X_train, y_train, **fit_params)\n"
     ]
    }
   ],
   "source": [
    "K_Fold = model_selection.TimeSeriesSplit(n_splits=3)\n",
    "model= KNeighborsClassifier()\n",
    "Y_train= pp.LabelBinarizer().fit_transform(Y_train)     #Binarize labels in a one-vs-all fashion\n",
    "model.fit(X_train, Y_train) # train the model\n",
    "roc_score_cv = model_selection.cross_val_score(model, X_train, Y_train, cv=K_Fold, scoring = 'roc_auc')\n",
    "F1_score= model_selection.cross_val_score(model, X_train, Y_train, cv=K_Fold, scoring = 'f1_weighted')\n",
    "KNN1_ROC=roc_score_cv.mean()\n",
    "KNN1_F1=F1_score.mean()\n",
    "print(\"ROC Score:\",KNN1_ROC)\n",
    "print(\"F1 Score:\", KNN1_F1)\n"
   ]
  },
  {
   "cell_type": "markdown",
   "metadata": {},
   "source": [
    "### (B) Recession Prediction 3 month ahead"
   ]
  },
  {
   "cell_type": "code",
   "execution_count": 10,
   "metadata": {},
   "outputs": [],
   "source": [
    "df3=df\n",
    "df3=df3.drop([723,724],axis=0)"
   ]
  },
  {
   "cell_type": "code",
   "execution_count": 11,
   "metadata": {},
   "outputs": [
    {
     "data": {
      "text/plain": [
       "(144, 65)"
      ]
     },
     "execution_count": 11,
     "metadata": {},
     "output_type": "execute_result"
    }
   ],
   "source": [
    "\n",
    "X=df3[['3MoTBill','6MoTBill',\t'1YoTBill',\t'5YoTBill',\t'10YoTBill',\t\n",
    "       'Unrate','consumptionex',\t'indpro',\t'fedfunrate',\t\n",
    "       'TB3SMFFM','TB6SMFFM',\t'T1YFFM',\t'T5YFFM',\t'T10YFFM',\t\n",
    "       'CPIAUCSL',\t'SandP500',\t'Recession',\t'3MoTBill_3MoLag',\t\n",
    "       '3MoTBill_6MoLag',\t'3MoTBill_12MoLag',\t'6MoTBill_3MoLag',\t\n",
    "       '6MoTBill_6MoLag',\t'6MoTBill_12MoLag',\t'1YoTBill_3MoLag',\t\n",
    "       '1YoTBill_6MoLag',\t'1YoTBill_12MoLag',\t'5YoTBill_3MoLag',\t'5YoTBill_6MoLag',\n",
    "       '5YoTBill_12MoLag',\t'10YoTBill_3MoLag',\t'10YoTBill_6MoLag',\t'10YoTBill_12MoLag',\n",
    "       'Unrate_3MoLag',\t'Unrate_6MoLag',\t'Unrate_12MoLag',\t'consumptionex_3MoLag',\t\n",
    "       'consumptionex_6MoLag',\t'consumptionex_12MoLag',\t'indpro_3MoLag',\n",
    "       'indpro_6MoLag',\t'indpro_12MoLag',\t'fedfunrate_3MoLag',\t'fedfunrate_6MoLag',\n",
    "       'fedfunrate_12MoLag',\t'TB3SMFFM_3MoLag',\t'TB3SMFFM_6MoLag',\t'TB3SMFFM_12MoLag',\n",
    "       'TB6SMFFM_3MoLag',\t'TB6SMFFM_6MoLag',\t'TB6SMFFM_12MoLag',\t'T1YFFM_3MoLag',\n",
    "       'T1YFFM_6MoLag',\t'T1YFFM_12MoLag',\t'T5YFFM_3MoLag',\t'T5YFFM_6MoLag',\n",
    "       'T5YFFM_12MoLag',\t'T10YFFM_3MoLag',\t'T10YFFM_6MoLag',\t'T10YFFM_12MoLag',\t'CPIAUCSL_3MoLag',\n",
    "       'CPIAUCSL_6MoLag',\t'CPIAUCSL_12MoLag',\t'SandP500_3MoLag',\t'SandP500_6MoLag',\t'SandP500_12MoLag']].values\n",
    "Y=df3['Recession6'].values\n",
    "\n",
    "X_train = X[:579]\n",
    "Y_train = Y[:579]\n",
    "\n",
    "X_val = X[579:]\n",
    "Y_val =Y[579:]\n",
    "\n",
    "X_val.shape\n",
    "\n"
   ]
  },
  {
   "cell_type": "markdown",
   "metadata": {},
   "source": [
    "#### SVM (Support Vector Machine)"
   ]
  },
  {
   "cell_type": "code",
   "execution_count": 12,
   "metadata": {},
   "outputs": [
    {
     "name": "stderr",
     "output_type": "stream",
     "text": [
      "C:\\Users\\garim\\Anaconda3\\lib\\site-packages\\sklearn\\utils\\validation.py:73: DataConversionWarning: A column-vector y was passed when a 1d array was expected. Please change the shape of y to (n_samples, ), for example using ravel().\n",
      "  return f(**kwargs)\n",
      "C:\\Users\\garim\\Anaconda3\\lib\\site-packages\\sklearn\\utils\\validation.py:73: DataConversionWarning: A column-vector y was passed when a 1d array was expected. Please change the shape of y to (n_samples, ), for example using ravel().\n",
      "  return f(**kwargs)\n",
      "C:\\Users\\garim\\Anaconda3\\lib\\site-packages\\sklearn\\utils\\validation.py:73: DataConversionWarning: A column-vector y was passed when a 1d array was expected. Please change the shape of y to (n_samples, ), for example using ravel().\n",
      "  return f(**kwargs)\n",
      "C:\\Users\\garim\\Anaconda3\\lib\\site-packages\\sklearn\\utils\\validation.py:73: DataConversionWarning: A column-vector y was passed when a 1d array was expected. Please change the shape of y to (n_samples, ), for example using ravel().\n",
      "  return f(**kwargs)\n"
     ]
    },
    {
     "name": "stdout",
     "output_type": "stream",
     "text": [
      "ROC Score: 0.8451411681470388\n",
      "F1 Score: 0.825213961672806\n"
     ]
    },
    {
     "name": "stderr",
     "output_type": "stream",
     "text": [
      "C:\\Users\\garim\\Anaconda3\\lib\\site-packages\\sklearn\\utils\\validation.py:73: DataConversionWarning: A column-vector y was passed when a 1d array was expected. Please change the shape of y to (n_samples, ), for example using ravel().\n",
      "  return f(**kwargs)\n",
      "C:\\Users\\garim\\Anaconda3\\lib\\site-packages\\sklearn\\utils\\validation.py:73: DataConversionWarning: A column-vector y was passed when a 1d array was expected. Please change the shape of y to (n_samples, ), for example using ravel().\n",
      "  return f(**kwargs)\n",
      "C:\\Users\\garim\\Anaconda3\\lib\\site-packages\\sklearn\\utils\\validation.py:73: DataConversionWarning: A column-vector y was passed when a 1d array was expected. Please change the shape of y to (n_samples, ), for example using ravel().\n",
      "  return f(**kwargs)\n"
     ]
    }
   ],
   "source": [
    "K_Fold = model_selection.TimeSeriesSplit(n_splits=3)\n",
    "model= SVC(probability=True)\n",
    "Y_train= pp.LabelBinarizer().fit_transform(Y_train)     #Binarize labels in a one-vs-all fashion\n",
    "model.fit(X_train, Y_train) # train the model\n",
    "roc_score_cv = model_selection.cross_val_score(model, X_train, Y_train, cv=K_Fold, scoring = 'roc_auc')\n",
    "F1_score= model_selection.cross_val_score(model, X_train, Y_train, cv=K_Fold, scoring = 'f1_weighted')\n",
    "SVC3_ROC=roc_score_cv.mean()\n",
    "SVC3_F1=F1_score.mean()\n",
    "print(\"ROC Score:\",SVC3_ROC)\n",
    "print(\"F1 Score:\", SVC3_F1)"
   ]
  },
  {
   "cell_type": "markdown",
   "metadata": {},
   "source": [
    "#### KNN"
   ]
  },
  {
   "cell_type": "code",
   "execution_count": 13,
   "metadata": {},
   "outputs": [
    {
     "name": "stdout",
     "output_type": "stream",
     "text": [
      "ROC Score: 0.7369957913652055\n",
      "F1 Score: 0.8867627047735818\n"
     ]
    },
    {
     "name": "stderr",
     "output_type": "stream",
     "text": [
      "C:\\Users\\garim\\Anaconda3\\lib\\site-packages\\ipykernel_launcher.py:4: DataConversionWarning: A column-vector y was passed when a 1d array was expected. Please change the shape of y to (n_samples, ), for example using ravel().\n",
      "  after removing the cwd from sys.path.\n",
      "C:\\Users\\garim\\Anaconda3\\lib\\site-packages\\sklearn\\model_selection\\_validation.py:531: DataConversionWarning: A column-vector y was passed when a 1d array was expected. Please change the shape of y to (n_samples, ), for example using ravel().\n",
      "  estimator.fit(X_train, y_train, **fit_params)\n",
      "C:\\Users\\garim\\Anaconda3\\lib\\site-packages\\sklearn\\model_selection\\_validation.py:531: DataConversionWarning: A column-vector y was passed when a 1d array was expected. Please change the shape of y to (n_samples, ), for example using ravel().\n",
      "  estimator.fit(X_train, y_train, **fit_params)\n",
      "C:\\Users\\garim\\Anaconda3\\lib\\site-packages\\sklearn\\model_selection\\_validation.py:531: DataConversionWarning: A column-vector y was passed when a 1d array was expected. Please change the shape of y to (n_samples, ), for example using ravel().\n",
      "  estimator.fit(X_train, y_train, **fit_params)\n",
      "C:\\Users\\garim\\Anaconda3\\lib\\site-packages\\sklearn\\model_selection\\_validation.py:531: DataConversionWarning: A column-vector y was passed when a 1d array was expected. Please change the shape of y to (n_samples, ), for example using ravel().\n",
      "  estimator.fit(X_train, y_train, **fit_params)\n",
      "C:\\Users\\garim\\Anaconda3\\lib\\site-packages\\sklearn\\model_selection\\_validation.py:531: DataConversionWarning: A column-vector y was passed when a 1d array was expected. Please change the shape of y to (n_samples, ), for example using ravel().\n",
      "  estimator.fit(X_train, y_train, **fit_params)\n",
      "C:\\Users\\garim\\Anaconda3\\lib\\site-packages\\sklearn\\model_selection\\_validation.py:531: DataConversionWarning: A column-vector y was passed when a 1d array was expected. Please change the shape of y to (n_samples, ), for example using ravel().\n",
      "  estimator.fit(X_train, y_train, **fit_params)\n"
     ]
    }
   ],
   "source": [
    "K_Fold = model_selection.TimeSeriesSplit(n_splits=3)\n",
    "model= KNeighborsClassifier()\n",
    "Y_train= pp.LabelBinarizer().fit_transform(Y_train)     #Binarize labels in a one-vs-all fashion\n",
    "model.fit(X_train, Y_train) # train the model\n",
    "roc_score_cv = model_selection.cross_val_score(model, X_train, Y_train, cv=K_Fold, scoring = 'roc_auc')\n",
    "F1_score= model_selection.cross_val_score(model, X_train, Y_train, cv=K_Fold, scoring = 'f1_weighted')\n",
    "KNN3_ROC=roc_score_cv.mean()\n",
    "KNN3_F1=F1_score.mean()\n",
    "print(\"ROC Score:\",KNN3_ROC)\n",
    "print(\"F1 Score:\", KNN3_F1)"
   ]
  },
  {
   "cell_type": "markdown",
   "metadata": {},
   "source": [
    "### (C) Recession Prediction 6 month ahead"
   ]
  },
  {
   "cell_type": "code",
   "execution_count": 14,
   "metadata": {},
   "outputs": [],
   "source": [
    "df12=df\n",
    "df12=df12.drop(df.index[720: ],axis=0)\n"
   ]
  },
  {
   "cell_type": "code",
   "execution_count": 15,
   "metadata": {},
   "outputs": [
    {
     "data": {
      "text/plain": [
       "(141, 65)"
      ]
     },
     "execution_count": 15,
     "metadata": {},
     "output_type": "execute_result"
    }
   ],
   "source": [
    "\n",
    "X=df12[['3MoTBill','6MoTBill',\t'1YoTBill',\t'5YoTBill',\t'10YoTBill',\t\n",
    "       'Unrate','consumptionex',\t'indpro',\t'fedfunrate',\t\n",
    "       'TB3SMFFM','TB6SMFFM',\t'T1YFFM',\t'T5YFFM',\t'T10YFFM',\t\n",
    "       'CPIAUCSL',\t'SandP500',\t'Recession',\t'3MoTBill_3MoLag',\t\n",
    "       '3MoTBill_6MoLag',\t'3MoTBill_12MoLag',\t'6MoTBill_3MoLag',\t\n",
    "       '6MoTBill_6MoLag',\t'6MoTBill_12MoLag',\t'1YoTBill_3MoLag',\t\n",
    "       '1YoTBill_6MoLag',\t'1YoTBill_12MoLag',\t'5YoTBill_3MoLag',\t'5YoTBill_6MoLag',\n",
    "       '5YoTBill_12MoLag',\t'10YoTBill_3MoLag',\t'10YoTBill_6MoLag',\t'10YoTBill_12MoLag',\n",
    "       'Unrate_3MoLag',\t'Unrate_6MoLag',\t'Unrate_12MoLag',\t'consumptionex_3MoLag',\t\n",
    "       'consumptionex_6MoLag',\t'consumptionex_12MoLag',\t'indpro_3MoLag',\n",
    "       'indpro_6MoLag',\t'indpro_12MoLag',\t'fedfunrate_3MoLag',\t'fedfunrate_6MoLag',\n",
    "       'fedfunrate_12MoLag',\t'TB3SMFFM_3MoLag',\t'TB3SMFFM_6MoLag',\t'TB3SMFFM_12MoLag',\n",
    "       'TB6SMFFM_3MoLag',\t'TB6SMFFM_6MoLag',\t'TB6SMFFM_12MoLag',\t'T1YFFM_3MoLag',\n",
    "       'T1YFFM_6MoLag',\t'T1YFFM_12MoLag',\t'T5YFFM_3MoLag',\t'T5YFFM_6MoLag',\n",
    "       'T5YFFM_12MoLag',\t'T10YFFM_3MoLag',\t'T10YFFM_6MoLag',\t'T10YFFM_12MoLag',\t'CPIAUCSL_3MoLag',\n",
    "       'CPIAUCSL_6MoLag',\t'CPIAUCSL_12MoLag',\t'SandP500_3MoLag',\t'SandP500_6MoLag',\t'SandP500_12MoLag']].values\n",
    "Y=df12['Recession12'].values\n",
    "\n",
    "X_train = X[:579]\n",
    "Y_train = Y[:579]\n",
    "\n",
    "X_val = X[579:]\n",
    "Y_val =Y[579:]\n",
    "\n",
    "X_val.shape\n",
    "\n"
   ]
  },
  {
   "cell_type": "markdown",
   "metadata": {},
   "source": [
    "#### SVM (Support Vector Machine)"
   ]
  },
  {
   "cell_type": "code",
   "execution_count": 16,
   "metadata": {},
   "outputs": [
    {
     "name": "stderr",
     "output_type": "stream",
     "text": [
      "C:\\Users\\garim\\Anaconda3\\lib\\site-packages\\sklearn\\utils\\validation.py:73: DataConversionWarning: A column-vector y was passed when a 1d array was expected. Please change the shape of y to (n_samples, ), for example using ravel().\n",
      "  return f(**kwargs)\n",
      "C:\\Users\\garim\\Anaconda3\\lib\\site-packages\\sklearn\\utils\\validation.py:73: DataConversionWarning: A column-vector y was passed when a 1d array was expected. Please change the shape of y to (n_samples, ), for example using ravel().\n",
      "  return f(**kwargs)\n",
      "C:\\Users\\garim\\Anaconda3\\lib\\site-packages\\sklearn\\utils\\validation.py:73: DataConversionWarning: A column-vector y was passed when a 1d array was expected. Please change the shape of y to (n_samples, ), for example using ravel().\n",
      "  return f(**kwargs)\n",
      "C:\\Users\\garim\\Anaconda3\\lib\\site-packages\\sklearn\\utils\\validation.py:73: DataConversionWarning: A column-vector y was passed when a 1d array was expected. Please change the shape of y to (n_samples, ), for example using ravel().\n",
      "  return f(**kwargs)\n"
     ]
    },
    {
     "name": "stdout",
     "output_type": "stream",
     "text": [
      "ROC Score: 0.7572930652255271\n",
      "F1 Score: 0.8347550062802215\n"
     ]
    },
    {
     "name": "stderr",
     "output_type": "stream",
     "text": [
      "C:\\Users\\garim\\Anaconda3\\lib\\site-packages\\sklearn\\utils\\validation.py:73: DataConversionWarning: A column-vector y was passed when a 1d array was expected. Please change the shape of y to (n_samples, ), for example using ravel().\n",
      "  return f(**kwargs)\n",
      "C:\\Users\\garim\\Anaconda3\\lib\\site-packages\\sklearn\\utils\\validation.py:73: DataConversionWarning: A column-vector y was passed when a 1d array was expected. Please change the shape of y to (n_samples, ), for example using ravel().\n",
      "  return f(**kwargs)\n",
      "C:\\Users\\garim\\Anaconda3\\lib\\site-packages\\sklearn\\utils\\validation.py:73: DataConversionWarning: A column-vector y was passed when a 1d array was expected. Please change the shape of y to (n_samples, ), for example using ravel().\n",
      "  return f(**kwargs)\n"
     ]
    }
   ],
   "source": [
    "K_Fold = model_selection.TimeSeriesSplit(n_splits=3)\n",
    "model= SVC(probability=True)\n",
    "Y_train= pp.LabelBinarizer().fit_transform(Y_train)     #Binarize labels in a one-vs-all fashion\n",
    "model.fit(X_train, Y_train) # train the model\n",
    "roc_score_cv = model_selection.cross_val_score(model, X_train, Y_train, cv=K_Fold, scoring = 'roc_auc')\n",
    "F1_score= model_selection.cross_val_score(model, X_train, Y_train, cv=K_Fold, scoring = 'f1_weighted')\n",
    "SVC6_ROC=roc_score_cv.mean()\n",
    "SVC6_F1=F1_score.mean()\n",
    "print(\"ROC Score:\",SVC6_ROC)\n",
    "print(\"F1 Score:\", SVC6_F1)"
   ]
  },
  {
   "cell_type": "markdown",
   "metadata": {},
   "source": [
    "#### KNN"
   ]
  },
  {
   "cell_type": "code",
   "execution_count": 17,
   "metadata": {},
   "outputs": [
    {
     "name": "stdout",
     "output_type": "stream",
     "text": [
      "ROC Score: 0.682269456938684\n",
      "F1 Score: 0.8582751936239958\n"
     ]
    },
    {
     "name": "stderr",
     "output_type": "stream",
     "text": [
      "C:\\Users\\garim\\Anaconda3\\lib\\site-packages\\ipykernel_launcher.py:4: DataConversionWarning: A column-vector y was passed when a 1d array was expected. Please change the shape of y to (n_samples, ), for example using ravel().\n",
      "  after removing the cwd from sys.path.\n",
      "C:\\Users\\garim\\Anaconda3\\lib\\site-packages\\sklearn\\model_selection\\_validation.py:531: DataConversionWarning: A column-vector y was passed when a 1d array was expected. Please change the shape of y to (n_samples, ), for example using ravel().\n",
      "  estimator.fit(X_train, y_train, **fit_params)\n",
      "C:\\Users\\garim\\Anaconda3\\lib\\site-packages\\sklearn\\model_selection\\_validation.py:531: DataConversionWarning: A column-vector y was passed when a 1d array was expected. Please change the shape of y to (n_samples, ), for example using ravel().\n",
      "  estimator.fit(X_train, y_train, **fit_params)\n",
      "C:\\Users\\garim\\Anaconda3\\lib\\site-packages\\sklearn\\model_selection\\_validation.py:531: DataConversionWarning: A column-vector y was passed when a 1d array was expected. Please change the shape of y to (n_samples, ), for example using ravel().\n",
      "  estimator.fit(X_train, y_train, **fit_params)\n",
      "C:\\Users\\garim\\Anaconda3\\lib\\site-packages\\sklearn\\model_selection\\_validation.py:531: DataConversionWarning: A column-vector y was passed when a 1d array was expected. Please change the shape of y to (n_samples, ), for example using ravel().\n",
      "  estimator.fit(X_train, y_train, **fit_params)\n",
      "C:\\Users\\garim\\Anaconda3\\lib\\site-packages\\sklearn\\model_selection\\_validation.py:531: DataConversionWarning: A column-vector y was passed when a 1d array was expected. Please change the shape of y to (n_samples, ), for example using ravel().\n",
      "  estimator.fit(X_train, y_train, **fit_params)\n",
      "C:\\Users\\garim\\Anaconda3\\lib\\site-packages\\sklearn\\model_selection\\_validation.py:531: DataConversionWarning: A column-vector y was passed when a 1d array was expected. Please change the shape of y to (n_samples, ), for example using ravel().\n",
      "  estimator.fit(X_train, y_train, **fit_params)\n"
     ]
    }
   ],
   "source": [
    "K_Fold = model_selection.TimeSeriesSplit(n_splits=3)\n",
    "model= KNeighborsClassifier()\n",
    "Y_train= pp.LabelBinarizer().fit_transform(Y_train)     #Binarize labels in a one-vs-all fashion\n",
    "model.fit(X_train, Y_train) # train the model\n",
    "roc_score_cv = model_selection.cross_val_score(model, X_train, Y_train, cv=K_Fold, scoring = 'roc_auc')\n",
    "F1_score= model_selection.cross_val_score(model, X_train, Y_train, cv=K_Fold, scoring = 'f1_weighted')\n",
    "KNN6_ROC=roc_score_cv.mean()\n",
    "KNN6_F1=F1_score.mean()\n",
    "print(\"ROC Score:\",KNN6_ROC)\n",
    "print(\"F1 Score:\",KNN6_F1)"
   ]
  },
  {
   "cell_type": "markdown",
   "metadata": {},
   "source": [
    "##### Scores to be reported"
   ]
  },
  {
   "cell_type": "code",
   "execution_count": 19,
   "metadata": {},
   "outputs": [],
   "source": [
    "from tabulate import tabulate\n",
    "skTable=tabulate([['SVC - 1 Month',round(SVC1_ROC,3),round(SVC1_F1,3)],\n",
    "             ['KNN - 1 Month', round(KNN1_ROC,3),round(KNN1_F1,3)],\n",
    "            ['SVC - 3 Month',round(SVC3_ROC,3),round(SVC3_F1,3)],\n",
    "             ['KNN - 3 Month', round(KNN3_ROC,3),round(KNN3_F1,3)],\n",
    "            ['SVC - 6 Month',round(SVC6_ROC,3),round(SVC6_F1,3)],\n",
    "             ['KNN - 6 Month', round(KNN6_ROC,3),round(KNN6_F1,3)]], \n",
    "            headers=['Model', 'ROC','F1'], tablefmt='orgtbl')"
   ]
  },
  {
   "cell_type": "code",
   "execution_count": 20,
   "metadata": {},
   "outputs": [
    {
     "name": "stdout",
     "output_type": "stream",
     "text": [
      "| Model         |   ROC |    F1 |\n",
      "|---------------+-------+-------|\n",
      "| SVC - 1 Month | 0.937 | 0.899 |\n",
      "| KNN - 1 Month | 0.811 | 0.909 |\n",
      "| SVC - 3 Month | 0.845 | 0.825 |\n",
      "| KNN - 3 Month | 0.737 | 0.887 |\n",
      "| SVC - 6 Month | 0.757 | 0.835 |\n",
      "| KNN - 6 Month | 0.682 | 0.858 |\n"
     ]
    }
   ],
   "source": [
    "print(skTable)"
   ]
  },
  {
   "cell_type": "code",
   "execution_count": null,
   "metadata": {},
   "outputs": [],
   "source": []
  }
 ],
 "metadata": {
  "kernelspec": {
   "display_name": "Python 3",
   "language": "python",
   "name": "python3"
  },
  "language_info": {
   "codemirror_mode": {
    "name": "ipython",
    "version": 3
   },
   "file_extension": ".py",
   "mimetype": "text/x-python",
   "name": "python",
   "nbconvert_exporter": "python",
   "pygments_lexer": "ipython3",
   "version": "3.7.3"
  }
 },
 "nbformat": 4,
 "nbformat_minor": 2
}
